{
 "cells": [
  {
   "attachments": {
    "image-2.png": {
     "image/png": "[encoded data removed]"
    },
    "image.png": {
     "image/png": "[encoded data removed]"
    }
   },
   "cell_type": "markdown",
   "id": "f3e1a326",
   "metadata": {},
   "source": [
    "# <right><font color=navy blue>CSCI492-Signal Processing</font>\n",
    "![image.png](attachment:image.png)\n",
    "![image-2.png](attachment:image-2.png)"
   ]
  },
  {
   "cell_type": "markdown",
   "id": "f3161c21",
   "metadata": {},
   "source": [
    "# <center><font color=brown>Identification and Analysis of Saccadic Eye Movements using Signal Processing and Modeling</font>"
   ]
  },
  {
   "cell_type": "markdown",
   "id": "4d005f1e",
   "metadata": {},
   "source": [
    "## Importing Libraries"
   ]
  },
  {
   "cell_type": "code",
   "execution_count": 48,
   "id": "68ff6b3b",
   "metadata": {},
   "outputs": [],
   "source": [
    "import numpy as np"
   ]
  },
  {
   "cell_type": "code",
   "execution_count": 49,
   "id": "d3b71464",
   "metadata": {},
   "outputs": [],
   "source": [
    "import scipy\n",
    "import os\n",
    "import sys"
   ]
  },
  {
   "cell_type": "code",
   "execution_count": 50,
   "id": "e701898f",
   "metadata": {},
   "outputs": [],
   "source": [
    "from scipy import signal\n",
    "from scipy import sparse\n",
    "from scipy.sparse import linalg as slin\n",
    "from __future__ import division"
   ]
  },
  {
   "cell_type": "code",
   "execution_count": 51,
   "id": "4379540d",
   "metadata": {},
   "outputs": [],
   "source": [
    "import matplotlib\n",
    "matplotlib.use('TkAgg')\n",
    "from matplotlib.backends.backend_tkagg import FigureCanvasTkAgg\n",
    "from PIL import ImageTk, Image"
   ]
  },
  {
   "cell_type": "code",
   "execution_count": 52,
   "id": "fc45297f",
   "metadata": {},
   "outputs": [],
   "source": [
    "import tkinter as tk"
   ]
  },
  {
   "cell_type": "markdown",
   "id": "acab83fa",
   "metadata": {},
   "source": [
    "## Defining our Saccade Model"
   ]
  },
  {
   "cell_type": "markdown",
   "id": "31420e3e",
   "metadata": {},
   "source": [
    "### We will simulates saccade waveforms using a parametric model, as the saccade model corresponds to the 'main sequence' formula:\n",
    "        Vp = eta*(1 - exp(-A/c))\n",
    "    where Vp is the peak saccadic velocity and A is the saccadic amplitude.\n",
    "   \n",
    "    Usage:\n",
    "        waveform, velocity, peak_velocity = \n",
    "            saccade_model(t, [eta,] [c,] [amplitude,] [t0,] [s0])\n",
    "    \n",
    "    Input:\n",
    "        t         : time axis (sec)\n",
    "        eta       : main sequence parameter (deg/sec)\n",
    "        c         : main sequence parameter (no units)\n",
    "        amplitude : amplitude of saccade (deg)\n",
    "        t0        : saccade onset time (sec)\n",
    "        s0        : initial saccade angle (degree)\n",
    "\n",
    "    Output:\n",
    "        waveform      : time series of saccadic angle\n",
    "        velocity      : time series of saccadic angular velocity\n",
    "        peak_velocity : peak velocity of saccade"
   ]
  },
  {
   "cell_type": "code",
   "execution_count": 53,
   "id": "af5a8d12",
   "metadata": {},
   "outputs": [],
   "source": [
    "def saccade_model(t, eta=600.0, c=6.0, amplitude=9.5, t0=0.0, s0=0.0):    \n",
    "    fun_f = lambda t: t*(t>=0)+0.25*np.exp(-2*t)*(t>=0)+0.25*np.exp(2*t)*(t<0)\n",
    "    fun_df = lambda t: 1*(t>=0)-0.5*np.exp(-2*t)*(t>=0)+0.5*np.exp(2*t)*(t<0)\n",
    "    tau = amplitude/eta         # tau: amplitude parameter (amplitude = eta*tau)\n",
    "    if t0 == 0:\n",
    "        t0 = -tau/2             # saccade onset time (sec)\n",
    "    \n",
    "    waveform = c * fun_f(eta * (t-t0)/c) - c * fun_f(eta * (t-t0-tau)/c) + s0\n",
    "    velocity = eta * fun_df(eta * (t-t0)/c) - eta * fun_df(eta * (t-t0-tau)/c)\n",
    "    peak_velocity = eta * (1 - np.exp(-amplitude/c))\n",
    "    \n",
    "    return waveform, velocity, peak_velocity"
   ]
  },
  {
   "cell_type": "code",
   "execution_count": 54,
   "id": "145ef6a8",
   "metadata": {},
   "outputs": [],
   "source": [
    "if sys.version_info[0] < 3:\n",
    "    import Tkinter as tk\n",
    "else:\n",
    "    import tkinter as tk"
   ]
  },
  {
   "cell_type": "code",
   "execution_count": 55,
   "id": "a86aac4e",
   "metadata": {},
   "outputs": [],
   "source": [
    "def restart_program():\n",
    "    \"\"\"\n",
    "    Restart the program.\n",
    "    \"\"\"\n",
    "    python = sys.executable\n",
    "    os.execl(python, python, * sys.argv)"
   ]
  },
  {
   "cell_type": "code",
   "execution_count": 56,
   "id": "466513a8",
   "metadata": {},
   "outputs": [],
   "source": [
    "def resize(event):\n",
    "    \"\"\"\n",
    "    Not used.\n",
    "    \"\"\"\n",
    "    win_width_c = root.winfo_width()\n",
    "    win_height_c = root.winfo_height()\n",
    "    fig.set_size_inches(fig_width*win_width_c/win_width, fig_height*win_height_c/win_height)"
   ]
  },
  {
   "cell_type": "code",
   "execution_count": 57,
   "id": "21b030a9",
   "metadata": {},
   "outputs": [],
   "source": [
    "def diff(x):\n",
    "    \"\"\"\n",
    "    Calculate derivative.\n",
    "    \"\"\"\n",
    "    h = np.array([0.5, 0, -0.5])\n",
    "    y = signal.convolve(x, Fs*h, mode='same')\n",
    "    y[0] = 0\n",
    "    y[-1] = 0\n",
    "    return y"
   ]
  },
  {
   "cell_type": "code",
   "execution_count": 58,
   "id": "338e78f2",
   "metadata": {},
   "outputs": [],
   "source": [
    "def rmse(x, y):\n",
    "    \"\"\"\n",
    "    Calculate root-mean-square-error.\n",
    "    \"\"\"\n",
    "    z = np.sqrt(np.mean((x-y)**2))\n",
    "    return z"
   ]
  },
  {
   "cell_type": "code",
   "execution_count": 59,
   "id": "ef7978bb",
   "metadata": {},
   "outputs": [],
   "source": [
    "def make_saccade(event):\n",
    "    \"\"\"\n",
    "    Generate multiple saccades.\n",
    "    \"\"\"\n",
    "    sacc_eta = eta.get()\n",
    "    sacc_c = c.get()\n",
    "    sacc_amp = amplitude.get()\n",
    "    sacc_sigma = sigma.get()\n",
    "    sacc_n = int(n.get())\n",
    "    global t, s, y, w, N, x, e, D1, D3, I, ALPHA, BETA, sacc_dur\n",
    "    \n",
    "\n",
    "    \n",
    "    if sacc_n > 1:\n",
    "        waveform, velocity, peak_velocity = saccade_model(T, sacc_eta, sacc_c, sacc_amp)\n",
    "        s = waveform\n",
    "        for i in range(1, sacc_n):\n",
    "            waveform, velocity, peak_velocity = saccade_model(T, sacc_eta, sacc_c, sacc_amp, -sacc_amp/sacc_eta/2, (-1 if i%2 else 1)*s[-1])\n",
    "            s = np.concatenate((s, (-1 if i%2 else 1)*waveform))\n",
    "    else:\n",
    "        waveform, velocity, peak_velocity = saccade_model(T, sacc_eta, sacc_c, sacc_amp)\n",
    "        s = waveform\n",
    "    N = len(s)\n",
    "    t = np.arange(N)/Fs\n",
    "    if len(w) != N:\n",
    "        w = np.random.randn(N)\n",
    "    y = s + w * sacc_sigma \n",
    "    x = y\n",
    "    \n",
    "    if len(e) != N:\n",
    "        e = np.ones(N)\n",
    "        D1 = sparse.spdiags([-e, e], [0, 1], N-1, N)\n",
    "        D3 = sparse.spdiags([-e, 3*e, -3*e, e], [0, 1, 2, 3], N-3, N)\n",
    "        I = sparse.spdiags(e, 0, N, N)\n",
    "    sd1 = diff(s)\n",
    "    yd1 = diff(y)\n",
    "    line1_y.set_data(t, y)\n",
    "    p1.set_xlim((0,(N-1)/Fs))\n",
    "    line2_y.set_data(t, yd1)\n",
    "    p2.set_xlim((0,(N-1)/Fs))\n",
    "    if sacc_n > 1:\n",
    "        p2.set_ylim((-750,750))\n",
    "    else:\n",
    "        p2.set_ylim((-50,750))\n",
    "    line1_0.set_data(t, s)\n",
    "    line2_0.set_data(t, sd1)\n",
    "    fig.canvas.draw()\n",
    "    \n",
    "    sacc_dur = np.sum(abs(sd1)>30)/Fs/sacc_n\n",
    "    alpha = 8*sacc_sigma\n",
    "    beta = 4*sacc_sigma*np.sqrt(sacc_amp)*np.exp(5*sacc_dur)\n",
    "    lam1.set(alpha)\n",
    "    lam2.set(beta)\n",
    "    denoiseButton(3)\n",
    "    ALPHA = 0\n",
    "    BETA = 0"
   ]
  },
  {
   "cell_type": "code",
   "execution_count": 60,
   "id": "a34b4016",
   "metadata": {},
   "outputs": [],
   "source": [
    "def denoise(event):\n",
    "    \"\"\"\n",
    "    Run CGTV to denoise the data.\n",
    "    \"\"\"\n",
    "    alpha = lam1.get()\n",
    "    beta = lam2.get()\n",
    "    global x\n",
    "    for i in range(3):    \n",
    "        Lam1 = sparse.spdiags(alpha/psi(np.diff(x)), 0, N-1, N-1)\n",
    "        Lam3 = sparse.spdiags(beta/psi(np.diff(x,3)), 0, N-3, N-3)\n",
    "        temp = I + ((D1.T).dot(Lam1)).dot(D1) + ((D3.T).dot(Lam3)).dot(D3)\n",
    "        x = slin.spsolve(temp, y)\n",
    "    xd1 = diff(x)\n",
    "    line1_d.set_data(t, x)\n",
    "    line2_d.set_data(t, xd1)\n",
    "    err = rmse(x, s)\n",
    "    p1.set_title('Simulated Eye Movement Data (RMSE = %.4f)' % err)\n",
    "    fig.canvas.draw()"
   ]
  },
  {
   "cell_type": "code",
   "execution_count": 61,
   "id": "b9d81587",
   "metadata": {},
   "outputs": [],
   "source": [
    "def denoiseButton(Nit):\n",
    "    \"\"\"\n",
    "    Run CGTV to denoise the data.\n",
    "    \"\"\"\n",
    "    alpha = lam1.get()\n",
    "    beta = lam2.get()\n",
    "    global x\n",
    "    for i in range(Nit):    \n",
    "        Lam1 = sparse.spdiags(alpha/psi(np.diff(x)), 0, N-1, N-1)\n",
    "        Lam3 = sparse.spdiags(beta/psi(np.diff(x,3)), 0, N-3, N-3)\n",
    "        temp = I + ((D1.T).dot(Lam1)).dot(D1) + ((D3.T).dot(Lam3)).dot(D3)\n",
    "        x = slin.spsolve(temp, y)\n",
    "    xd1 = diff(x)\n",
    "    line1_d.set_data(t, x)\n",
    "    line2_d.set_data(t, xd1)\n",
    "    err = rmse(x, s)\n",
    "    p1.set_title('Simulated Eye Movement Data (RMSE = %.4f)' % err)\n",
    "    fig.canvas.draw()"
   ]
  },
  {
   "cell_type": "code",
   "execution_count": 62,
   "id": "9db1f155",
   "metadata": {},
   "outputs": [],
   "source": [
    "def denoiseDefault():\n",
    "    \"\"\"\n",
    "    Use default parameters for CGTV to denoise the data.\n",
    "    \"\"\"\n",
    "    sacc_amp = amplitude.get()\n",
    "    sacc_sigma = sigma.get()\n",
    "    alpha = 8*sacc_sigma\n",
    "    beta = 4*sacc_sigma*np.sqrt(sacc_amp)*np.exp(5*sacc_dur)\n",
    "    lam1.set(alpha)\n",
    "    lam2.set(beta)\n",
    "    denoiseButton(Nit_max)"
   ]
  },
  {
   "cell_type": "code",
   "execution_count": 63,
   "id": "0a0fe53f",
   "metadata": {},
   "outputs": [],
   "source": [
    "def new_noise():\n",
    "    \"\"\"\n",
    "    Generate new noise realization.\n",
    "    \"\"\"\n",
    "    global w, y, ALPHA, BETA\n",
    "    sacc_sigma = sigma.get()\n",
    "    w = np.random.randn(N)\n",
    "    y = s + w * sacc_sigma \n",
    "\n",
    "    yd1 = diff(y)\n",
    "    line1_y.set_data(t, y)\n",
    "    line2_y.set_data(t, yd1)\n",
    "\n",
    "    denoiseButton(3)\n",
    "    ALPHA = 0\n",
    "    BETA = 0\n",
    "    \n",
    "    fig.canvas.draw()"
   ]
  },
  {
   "cell_type": "code",
   "execution_count": 64,
   "id": "ff2de6f4",
   "metadata": {},
   "outputs": [],
   "source": [
    "def show_raw():\n",
    "    \"\"\"\n",
    "    Show noise-free data.\n",
    "    \"\"\"\n",
    "    if raw.get() == 1:\n",
    "        line1_0.set_alpha(1)\n",
    "        line2_0.set_alpha(1)\n",
    "    else:\n",
    "        line1_0.set_alpha(0)\n",
    "        line2_0.set_alpha(0)\n",
    "    fig.canvas.draw()"
   ]
  },
  {
   "cell_type": "code",
   "execution_count": 65,
   "id": "7fe60bbf",
   "metadata": {},
   "outputs": [],
   "source": [
    "def switchStatus0(event):\n",
    "    \"\"\"\n",
    "    Turn off background computing.\n",
    "    \"\"\"\n",
    "    global IDLING\n",
    "    IDLING = 0\n",
    " \n",
    "def switchStatus1(event):\n",
    "    \"\"\"\n",
    "    Turn on background computing.\n",
    "    \"\"\"\n",
    "    global IDLING\n",
    "    IDLING = 1"
   ]
  },
  {
   "cell_type": "code",
   "execution_count": 66,
   "id": "283a97df",
   "metadata": {},
   "outputs": [],
   "source": [
    "def denoise_conti():\n",
    "    \"\"\"\n",
    "    Run CGTV to denoise the data.\n",
    "    \"\"\"\n",
    "    alpha = lam1.get()\n",
    "    beta = lam2.get()\n",
    "    root.after(1000, denoise_conti)\n",
    "    if IDLING == 0:\n",
    "        return\n",
    "    \n",
    "    global x, ALPHA, BETA\n",
    "    if alpha != ALPHA or beta != BETA:\n",
    "        ALPHA = alpha\n",
    "        BETA = beta\n",
    "    else:\n",
    "        return\n",
    "    \n",
    "    for i in range(Nit_max):\n",
    "\n",
    "        Lam1 = sparse.spdiags(alpha/psi(np.diff(x)), 0, N-1, N-1)\n",
    "        Lam3 = sparse.spdiags(beta/psi(np.diff(x,3)), 0, N-3, N-3)\n",
    "        temp = I + ((D1.T).dot(Lam1)).dot(D1) + ((D3.T).dot(Lam3)).dot(D3)\n",
    "        x = slin.spsolve(temp, y)\n",
    "\n",
    "    xd1 = diff(x)\n",
    "    line1_d.set_data(t, x)\n",
    "    line2_d.set_data(t, xd1)\n",
    "    err = rmse(x, s)\n",
    "\n",
    "    p1.set_title('Simulated Eye Movement Data (RMSE = %.4f)' % err)\n",
    "    fig.canvas.draw()"
   ]
  },
  {
   "cell_type": "code",
   "execution_count": 67,
   "id": "02ee54bc",
   "metadata": {},
   "outputs": [],
   "source": [
    "EPS = 1E-10;                # smoothed penalty function\n",
    "psi = lambda x: np.sqrt(x**2 + EPS)\n",
    "Nit_max = 50\n",
    "ALPHA = 0\n",
    "BETA = 0\n",
    "IDLING = 0\n",
    "\n",
    "root = tk.Tk()\n",
    "root.title('Saccade Denoising Demo')\n",
    "win_width = 1620\n",
    "win_height = 880\n",
    "\n",
    "\n",
    "# Define variables\n",
    "eta = tk.DoubleVar(value=600.0)         # saccade parameter, eta\n",
    "c = tk.DoubleVar(value=6.0)             # saccade parameter, c\n",
    "amplitude = tk.DoubleVar(value=20.0)    # saccade amplitude\n",
    "sigma = tk.DoubleVar(value=0.1)         # noise parameter\n",
    "raw = tk.IntVar()                       # display raw data or not\n",
    "ms = tk.IntVar(value=1)                 # display main sequence or not\n",
    "lam1 = tk.DoubleVar(value=0)            # denoising parameter 1\n",
    "lam2 = tk.DoubleVar(value=0)            # denoising parameter 2\n",
    "n = tk.StringVar(value='1')             # number of saccades"
   ]
  },
  {
   "cell_type": "markdown",
   "id": "4b22f536",
   "metadata": {},
   "source": [
    "# <center><font color=blue>GUI</font>"
   ]
  },
  {
   "cell_type": "markdown",
   "id": "0e78b7c2",
   "metadata": {},
   "source": [
    "### Drop down menu "
   ]
  },
  {
   "cell_type": "code",
   "execution_count": 68,
   "id": "e566ec6f",
   "metadata": {},
   "outputs": [],
   "source": [
    "myMenu = tk.Menu(root)\n",
    "root.config(menu=myMenu)\n",
    "subMenu_1 = tk.Menu(myMenu)\n",
    "myMenu.add_cascade(label='Menu', menu=subMenu_1)\n",
    "subMenu_1.add_command(label='Restart', command=restart_program)\n",
    "subMenu_1.add_separator()\n",
    "subMenu_1.add_command(label='Close', command=root.quit)"
   ]
  },
  {
   "cell_type": "markdown",
   "id": "7e13e940",
   "metadata": {},
   "source": [
    "### Frames"
   ]
  },
  {
   "cell_type": "code",
   "execution_count": 69,
   "id": "3753868a",
   "metadata": {},
   "outputs": [
    {
     "data": {
      "text/plain": [
       "<matplotlib.legend.Legend at 0x28db9cc0df0>"
      ]
     },
     "execution_count": 69,
     "metadata": {},
     "output_type": "execute_result"
    }
   ],
   "source": [
    "rightFrame = tk.Frame(root)\n",
    "rightFrame.pack(side='right', expand=0)\n",
    "\n",
    "topFrame = tk.Frame(root)\n",
    "topFrame.pack(side='top', fill='x', expand=0)\n",
    "\n",
    "### Top frame ###\n",
    "title = tk.Label(topFrame, text='Saccade Denoising Demo', font=('times', 24, 'bold'))\n",
    "title.pack(side='top')\n",
    "intro_string = 'The peak velocity '+r'$\\bf{V_p}$ ' \\\n",
    "                'and amplitude '+r'$\\bf{A}$ '+'of the simulated saccades satisfy the relation ' \\\n",
    "                r'$V_p=\\eta(1-e^{-A/c})$ '+'.\\n' \\\n",
    "                'Fast, regular, or slow saccades can be simulated via tuning the parameters ' \\\n",
    "                r'$\\bf{\\eta}$ '+'and '+r'$\\bf{c}$' + '.\\n' \\\n",
    "                'The parameters '+r'$\\bf{\\alpha}$ ' \\\n",
    "                'and ' \\\n",
    "                +r'$\\bf{\\beta}$ ' \\\n",
    "                'control the denoising behaviour of the method.'\n",
    "\n",
    "\n",
    "### Left frame ###\n",
    "Fs = 500.0\n",
    "T = np.arange(-0.15, 0.15+1.0/Fs, 1.0/Fs)\n",
    "waveform, velocity, peak_velocity = saccade_model(T, 600, 6, 10)\n",
    "w = np.array([0])\n",
    "N = len(T);\n",
    "e = np.ones(N)\n",
    "D1 = sparse.spdiags([-e, e], [0, 1], N-1, N)\n",
    "D3 = sparse.spdiags([-e, 3*e, -3*e, e], [0, 1, 2, 3], N-3, N)\n",
    "I = sparse.spdiags(e, 0, N, N)\n",
    "\n",
    "# Position plot\n",
    "fig = matplotlib.figure.Figure()\n",
    "fig_width = fig.get_figwidth()\n",
    "fig_height = fig.get_figheight()\n",
    "\n",
    "p1 = fig.add_subplot(2, 1, 1)\n",
    "line1_y, = p1.plot(T, waveform, color='k', linewidth=1.8, label='Noisy')\n",
    "line1_d, = p1.plot(T, waveform, color='r', linewidth=1.5, label='Denoised')\n",
    "line1_0, = p1.plot(T, waveform, color='b', alpha=0, linewidth=1.5)\n",
    "p1.set_xlim((-0.15,0.15))\n",
    "p1.set_ylim((-1,30))\n",
    "\n",
    "p1.set_ylabel('Position (deg)')\n",
    "p1.set_title('Simulated Eye Movement Data')\n",
    "p1.legend(loc='upper left')"
   ]
  },
  {
   "cell_type": "code",
   "execution_count": 70,
   "id": "d341cb78",
   "metadata": {},
   "outputs": [
    {
     "data": {
      "text/plain": [
       "<matplotlib.legend.Legend at 0x28db9da0fd0>"
      ]
     },
     "execution_count": 70,
     "metadata": {},
     "output_type": "execute_result"
    }
   ],
   "source": [
    "# Velocity plot\n",
    "p2 = fig.add_subplot(2, 1, 2)\n",
    "line2_y, = p2.plot(T, velocity, color='k', linewidth=1.8, label='Noisy')\n",
    "line2_d, = p2.plot(T, waveform, color='r', linewidth=1.5, label='Denoised')\n",
    "line2_0, = p2.plot(T, velocity, color='b', alpha=0, linewidth=1.5)\n",
    "p2.set_xlim((-0.15,0.15))\n",
    "p2.set_ylim((-50,750))\n",
    "p2.set_xlabel('Time (s)')\n",
    "p2.set_ylabel('Velocity (deg/s)')\n",
    "p2.legend(loc='upper left')"
   ]
  },
  {
   "cell_type": "code",
   "execution_count": 71,
   "id": "2d9024a8",
   "metadata": {},
   "outputs": [],
   "source": [
    "canvas = FigureCanvasTkAgg(fig, master = root)\n",
    "\n",
    "canvas.get_tk_widget().pack(fill = tk.BOTH, expand = 1)"
   ]
  },
  {
   "cell_type": "code",
   "execution_count": 72,
   "id": "fcc707d1",
   "metadata": {},
   "outputs": [],
   "source": [
    "### Right frame ###\n",
    "# Saccade parameters\n",
    "font1 = ('times',18)\n",
    "font2 = ('times',15,'italic')\n",
    "label_1 = tk.Label(rightFrame, text='Saccade Parameters:', font=font1)\n",
    "label_1.grid(row=0, column=1, columnspan=4, sticky='w')\n",
    "paramLabel_eta = tk.Label(rightFrame, text=u'\\u03b7', font=font2)\n",
    "paramLabel_eta.grid(row=1, column=0, sticky='e')\n",
    "paramScale_eta = tk.Scale(rightFrame, orient='horizontal', length = 200, variable=eta, from_=200, to=800, command=make_saccade)\n",
    "paramScale_eta.grid(row=1, column=1, columnspan=3)\n",
    "paramLabel_c = tk.Label(rightFrame, text='c', font=font2)\n",
    "paramLabel_c.grid(row=2, column=0, sticky='e')\n",
    "paramScale_c = tk.Scale(rightFrame, orient='horizontal', length = 200, variable=c, from_=2, to=12, resolution=0.2, command=make_saccade)\n",
    "paramScale_c.grid(row=2, column=1, columnspan=3)\n",
    "paramLabel_A = tk.Label(rightFrame, text='Amplitude', font=font2)\n",
    "paramLabel_A.grid(row=3, column=0, sticky='e')\n",
    "paramScale_A = tk.Scale(rightFrame, orient='horizontal', length = 200, variable=amplitude, from_=1, to=30, resolution=0.5, command=make_saccade)\n",
    "paramScale_A.grid(row=3, column=1, columnspan=3)\n",
    "paramLabel_n = tk.Label(rightFrame, text='# Saccades', font=font2)\n",
    "paramLabel_n.grid(row=4, column=0, sticky='e')\n",
    "paramDropMenu_n = tk.OptionMenu(rightFrame, n, '1', '2', '3', '4', command=make_saccade)\n",
    "paramDropMenu_n.config(width=15, bg='gray')\n",
    "paramDropMenu_n.grid(row=4, column=1, columnspan=3)"
   ]
  },
  {
   "cell_type": "code",
   "execution_count": 73,
   "id": "0b8e14da",
   "metadata": {},
   "outputs": [],
   "source": [
    "# Noise parameter\n",
    "label_2 = tk.Label(rightFrame, text='Noise Parameter:', font=font1)\n",
    "label_2.grid(row=5, column=1, columnspan=4, sticky='w')\n",
    "paramLabel_sigma = tk.Label(rightFrame, text=u'\\u03c3', font=font2)\n",
    "paramLabel_sigma.grid(row=6, column=0, sticky='e')\n",
    "paramScale_sigma = tk.Scale(rightFrame, orient='horizontal', length = 200, variable=sigma, from_=0, to=1, resolution=0.02, command=make_saccade)\n",
    "paramScale_sigma.grid(row=6, column=1, columnspan=3)\n",
    "paramScale_sigma.set(0.5)\n",
    "button_noise = tk.Button(rightFrame, text='Update noise', width=20, height=2, command=new_noise)\n",
    "button_noise.grid(row=7, column=1, columnspan=3)\n",
    "\n",
    "# Show noise-free data\n",
    "check_box_1 = tk.Checkbutton(rightFrame, text='Show clean data', variable=raw, command=show_raw)\n",
    "check_box_1.grid(row=8, column=1, columnspan=3)"
   ]
  },
  {
   "cell_type": "code",
   "execution_count": 74,
   "id": "5db08cd5",
   "metadata": {},
   "outputs": [
    {
     "data": {
      "text/plain": [
       "'\\nparamEntry_alpha = tk.Entry(rightFrame, textvariable=lam1)\\nparamEntry_alpha.grid(row=10, column=1, columnspan=1)\\nparamEntry_beta = tk.Entry(rightFrame, textvariable=lam2)\\nparamEntry_beta.grid(row=11, column=1, columnspan=1)\\nbutton_denoise = tk.Button(rightFrame, text=\\'Denoise\\', width=20, height=2)\\nbutton_denoise.bind(\"<ButtonRelease-1>\", denoise)\\nbutton_denoise.grid(row=12, column=1, columnspan=3)\\n'"
      ]
     },
     "execution_count": 74,
     "metadata": {},
     "output_type": "execute_result"
    }
   ],
   "source": [
    "# Denoising Parameters\n",
    "label_3 = tk.Label(rightFrame, text='Denoising Parameters:', font=font1)\n",
    "label_3.grid(row=9, column=1, columnspan=4, sticky='w')\n",
    "photo = Image.open('cost.png')\n",
    "photow, photoh = photo.size\n",
    "\n",
    "cost_function = ImageTk.PhotoImage(photo)\n",
    "label_cost = tk.Label(rightFrame, image=cost_function)\n",
    "label_cost.grid(row=10, columnspan=5)\n",
    "\n",
    "paramLabel_alpha = tk.Label(rightFrame, text=u'\\u03b1', font=font2)\n",
    "paramLabel_alpha.grid(row=11, column=0, sticky='e')\n",
    "\n",
    "alpha_max = 15;\n",
    "paramScale_alpha = tk.Scale(rightFrame, orient='horizontal', command=denoise, length = 200, variable=lam1, from_=0, to=alpha_max, resolution=0.05)\n",
    "\n",
    "paramScale_alpha.grid(row=11, column=1, columnspan=3)\n",
    "paramLabel_beta = tk.Label(rightFrame, text=u'\\u03b2', font=font2)\n",
    "paramLabel_beta.grid(row=12, column=0, sticky='e')\n",
    "\n",
    "beta_max = 20\n",
    "paramScale_beta = tk.Scale(rightFrame, orient='horizontal', command=denoise, length = 200, variable=lam2, from_=0, to=beta_max, resolution=0.05)\n",
    "\n",
    "paramScale_beta.grid(row=12, column=1, columnspan=3)\n",
    "\"\"\"\n",
    "paramEntry_alpha = tk.Entry(rightFrame, textvariable=lam1)\n",
    "paramEntry_alpha.grid(row=10, column=1, columnspan=1)\n",
    "paramEntry_beta = tk.Entry(rightFrame, textvariable=lam2)\n",
    "paramEntry_beta.grid(row=11, column=1, columnspan=1)\n",
    "button_denoise = tk.Button(rightFrame, text='Denoise', width=20, height=2)\n",
    "button_denoise.bind(\"<ButtonRelease-1>\", denoise)\n",
    "button_denoise.grid(row=12, column=1, columnspan=3)\n",
    "\"\"\""
   ]
  },
  {
   "cell_type": "code",
   "execution_count": 75,
   "id": "e6edb1ca",
   "metadata": {},
   "outputs": [],
   "source": [
    "button_params = tk.Button(rightFrame, text='Default Parameters', width=20, height=2, command=denoiseDefault)\n",
    "button_params.grid(row=13, column=1, columnspan=3)\n",
    "\n",
    "paramLabel_7 = tk.Label(rightFrame, text=' ')\n",
    "paramLabel_7.grid(row=19, column=0)\n",
    "\n",
    "button_exit = tk.Button(rightFrame, text='Exit', width=20, height=2, command=root.quit)\n",
    "button_exit.grid(row=20, column=1, columnspan=3)\n",
    "\n",
    "denoise_conti()\n",
    "\n",
    "root.bind(\"<ButtonPress>\", switchStatus0)\n",
    "root.bind(\"<ButtonRelease>\", switchStatus1)\n",
    "\n",
    "label_reference = tk.Label(root, text = '\"Identification and Analysis of Saccadic Eye Movements using Signal Processing and Modeling\" \\nUnder Supervision of: DR. Walid , Eng. Shahenda', justify = tk.LEFT)\n",
    "\n",
    "label_reference.pack(side = tk.LEFT)\n",
    "\n",
    "root.mainloop()"
   ]
  }
 ],
 "metadata": {
  "kernelspec": {
   "display_name": "Python 3 (ipykernel)",
   "language": "python",
   "name": "python3"
  },
  "language_info": {
   "codemirror_mode": {
    "name": "ipython",
    "version": 3
   },
   "file_extension": ".py",
   "mimetype": "text/x-python",
   "name": "python",
   "nbconvert_exporter": "python",
   "pygments_lexer": "ipython3",
   "version": "3.9.12"
  }
 },
 "nbformat": 4,
 "nbformat_minor": 5
}
